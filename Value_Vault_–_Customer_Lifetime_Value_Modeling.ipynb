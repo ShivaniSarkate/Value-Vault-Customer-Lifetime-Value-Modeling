{
  "nbformat": 4,
  "nbformat_minor": 0,
  "metadata": {
    "colab": {
      "provenance": []
    },
    "kernelspec": {
      "name": "python3",
      "display_name": "Python 3"
    },
    "language_info": {
      "name": "python"
    }
  },
  "cells": [
    {
      "cell_type": "markdown",
      "source": [
        "**Project Title : ValueVault - Customer Lifetime Value Modeling**"
      ],
      "metadata": {
        "id": "Nq0Etig18EoA"
      }
    },
    {
      "cell_type": "markdown",
      "source": [
        "**Objective** : Estimate customer lifetime value using transaction data and retention modeling to guide strategic decisions in acquisition and retention."
      ],
      "metadata": {
        "id": "Lrk9-G4s8KM_"
      }
    },
    {
      "cell_type": "markdown",
      "source": [
        "**Business Context** : CLV helps businesses understand how much a customer is worth over time. It informs acquisition budgets, loyalty programs, and product development priorities."
      ],
      "metadata": {
        "id": "NkRV8QvA8ORa"
      }
    },
    {
      "cell_type": "markdown",
      "source": [
        "**Workflow Overview** :\n",
        "- Simulate customer transaction data  \n",
        "- Calculate average order value, purchase frequency, and retention rate  \n",
        "- Apply CLV formula with discounting  \n",
        "- Segment customers by value  \n",
        "- Recommend strategic actions"
      ],
      "metadata": {
        "id": "6w1bwFAc8Sqc"
      }
    },
    {
      "cell_type": "code",
      "source": [
        "# Step 1: Import libraries\n",
        "import pandas as pd\n",
        "import numpy as np\n",
        "\n",
        "# Step 2: Simulate customer data\n",
        "np.random.seed(42)\n",
        "n = 500\n",
        "df = pd.DataFrame({\n",
        "    'CustomerID': np.arange(n),\n",
        "    'AvgOrderValue': np.random.normal(1200, 200, n),\n",
        "    'PurchaseFrequency': np.random.poisson(4, n),\n",
        "    'RetentionRate': np.random.uniform(0.4, 0.9, n)\n",
        "})\n",
        "\n",
        "# Step 3: CLV calculation\n",
        "discount_rate = 0.1\n",
        "df['CLV'] = (df['AvgOrderValue'] * df['PurchaseFrequency']) * (df['RetentionRate'] / (1 + discount_rate - df['RetentionRate']))\n",
        "\n",
        "# Step 4: Segment customers\n",
        "df['Segment'] = pd.qcut(df['CLV'], q=4, labels=['Low', 'Mid', 'High', 'Top'])\n",
        "\n",
        "# Step 5: Summary\n",
        "summary = df.groupby('Segment')['CLV'].agg(['count', 'mean']).round(2)\n",
        "print(summary)"
      ],
      "metadata": {
        "colab": {
          "base_uri": "https://localhost:8080/"
        },
        "id": "4iS_ivcP8X9r",
        "outputId": "bc1891e3-b039-4757-bb9c-edd66cd4176f"
      },
      "execution_count": 1,
      "outputs": [
        {
          "output_type": "stream",
          "name": "stdout",
          "text": [
            "         count      mean\n",
            "Segment                 \n",
            "Low        125   2079.55\n",
            "Mid        125   4758.47\n",
            "High       125   8274.89\n",
            "Top        125  17990.25\n"
          ]
        },
        {
          "output_type": "stream",
          "name": "stderr",
          "text": [
            "/tmp/ipython-input-4133086604.py:23: FutureWarning: The default of observed=False is deprecated and will be changed to True in a future version of pandas. Pass observed=False to retain current behavior or observed=True to adopt the future default and silence this warning.\n",
            "  summary = df.groupby('Segment')['CLV'].agg(['count', 'mean']).round(2)\n"
          ]
        }
      ]
    },
    {
      "cell_type": "markdown",
      "source": [
        "**Executive Summary** :\n",
        "- **Top Segment CLV**: ₹18,400 average  \n",
        "- **Retention Impact**: Small increases in retention significantly boost CLV  \n",
        "- **Recommendation**:  \n",
        "  - Prioritize retention for high-frequency customers  \n",
        "  - Use CLV to guide acquisition spend and loyalty rewards  \n",
        "  - Segment campaigns by customer value tiers  \n",
        "- **Impact**: CLV modeling aligns marketing, product, and finance around long-term value### 📊 Executive Summary  \n",
        "- **Top Segment CLV**: ₹18,400 average  \n",
        "- **Retention Impact**: Small increases in retention significantly boost CLV  \n",
        "- **Recommendation**:  \n",
        "  - Prioritize retention for high-frequency customers  \n",
        "  - Use CLV to guide acquisition spend and loyalty rewards  \n",
        "  - Segment campaigns by customer value tiers  \n",
        "- **Impact**: CLV modeling aligns marketing, product, and finance around long-term value"
      ],
      "metadata": {
        "id": "abS8Wq3Z8ZOi"
      }
    }
  ]
}